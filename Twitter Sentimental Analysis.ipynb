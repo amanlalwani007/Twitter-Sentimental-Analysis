{
 "cells": [
  {
   "cell_type": "code",
   "execution_count": 29,
   "metadata": {},
   "outputs": [],
   "source": [
    "'''A basic task in sentiment analysis is classifying the polarity of a given text at the document, \n",
    "sentence, or feature/aspect level—whether the expressed opinion in a document, \n",
    "a sentence or an entity feature/aspect is positive, negative, or neutral.\n",
    "'''\n",
    "\n",
    "import re  \n",
    "import tweepy                  # pip install tweepy\n",
    "from tweepy import OAuthHandler\n",
    "from textblob import TextBlob  # pip install textblob # python -m textblob.download_corpora"
   ]
  },
  {
   "cell_type": "code",
   "execution_count": 30,
   "metadata": {},
   "outputs": [],
   "source": [
    "consumer_key = 'hUM0xeigpyQ6VX1XJgtP4VbXQ'\n",
    "consumer_secret = 'FDYxMQTeyHdKrlerro26xpSQuSAvzyCTF5fMabTktou8cxv45s'\n",
    "access_token = '716905406430191616-MSp8MgFwO2TOzUNk62dAbMu48YDrstz'\n",
    "access_token_secret = 'VnIZLQGzkpFLbo8yw4LDA3SVCwj9PdGUnHUYiRLNk8VyA'"
   ]
  },
  {
   "cell_type": "code",
   "execution_count": 31,
   "metadata": {},
   "outputs": [],
   "source": [
    "# create OAuthHandler object\n",
    "auth = OAuthHandler(consumer_key, consumer_secret)\n",
    "# set access token and secret\n",
    "auth.set_access_token(access_token, access_token_secret)\n",
    " # create tweepy API object to fetch tweets\n",
    "api = tweepy.API(auth)"
   ]
  },
  {
   "cell_type": "code",
   "execution_count": 32,
   "metadata": {},
   "outputs": [],
   "source": [
    "def clean_tweet(tweet):\n",
    "        return ' '.join(re.sub(\"(@[A-Za-z0-9]+)|([^0-9A-Za-z \\t])|(\\w+:\\/\\/\\S+)\", \" \", tweet).split())"
   ]
  },
  {
   "cell_type": "code",
   "execution_count": 33,
   "metadata": {},
   "outputs": [],
   "source": [
    "def get_tweet_sentiment(tweet):\n",
    "        analysis = TextBlob(clean_tweet(tweet))\n",
    "        # set sentiment\n",
    "        if analysis.sentiment.polarity > 0:\n",
    "            return 'positive'\n",
    "        elif analysis.sentiment.polarity == 0:\n",
    "            return 'neutral'\n",
    "        else:\n",
    "            return 'negative'"
   ]
  },
  {
   "cell_type": "code",
   "execution_count": 34,
   "metadata": {},
   "outputs": [],
   "source": [
    " def get_tweets(query, count = 10):\n",
    "        tweets = []\n",
    "        fetched_tweets = api.search(q = query, count = count)\n",
    "        for tweet in fetched_tweets:\n",
    "            parsed_tweet = {}\n",
    "            parsed_tweet['text'] = tweet.text\n",
    "            parsed_tweet['sentiment'] = get_tweet_sentiment(tweet.text)\n",
    "            if tweet.retweet_count > 0:\n",
    "                if parsed_tweet not in tweets:\n",
    "                    tweets.append(parsed_tweet)\n",
    "            else:\n",
    "                tweets.append(parsed_tweet)\n",
    "            return tweets\n"
   ]
  },
  {
   "cell_type": "code",
   "execution_count": 35,
   "metadata": {},
   "outputs": [
    {
     "name": "stdout",
     "output_type": "stream",
     "text": [
      "Positive tweets percentage: 100.0 %\n",
      "Negative tweets percentage: 0.0 %\n",
      "Neutral tweets percentage: 0 % \n",
      "\n",
      "\n",
      "Positive tweets:\n",
      "RT @ZoomTV: #ZoomLens: Father @shahidkapoor spotted with daughter #Misha as they visit new born #ZainKapoor and mommy #MiraRajput https://t…\n",
      "\n",
      "\n",
      "Negative tweets:\n"
     ]
    }
   ],
   "source": [
    "\n",
    "tweets = get_tweets(query = '#ZainKapoor ', count = 200)\n",
    "ptweets = [tweet for tweet in tweets if tweet['sentiment'] == 'positive']\n",
    "print(\"Positive tweets percentage: {} %\".format(100*len(ptweets)/len(tweets)))\n",
    "ntweets = [tweet for tweet in tweets if tweet['sentiment'] == 'negative']\n",
    "print(\"Negative tweets percentage: {} %\".format(100*len(ntweets)/len(tweets)))\n",
    "print(\"Neutral tweets percentage: {} % \".format(100*(len(tweets) - len(ntweets) - len(ptweets))//len(tweets)))\n",
    "print(\"\\n\\nPositive tweets:\")\n",
    "for tweet in ptweets[:10]:\n",
    "    print(tweet['text'])\n",
    "print(\"\\n\\nNegative tweets:\")\n",
    "for tweet in ntweets[:10]:\n",
    "    print(tweet['text'])"
   ]
  },
  {
   "cell_type": "markdown",
   "metadata": {},
   "source": [
    "TextBlob is actually a high level library built over top of NLTK library. First we call clean_tweet method to remove links, special characters, etc. from the tweet using some simple regex.\n",
    "Then, as we pass tweet to create a TextBlob object, following processing is done over text by textblob library:\n",
    "\n",
    "Tokenize the tweet ,i.e split words from body of text.\n",
    "Remove stopwords from the tokens.(stopwords are the commonly used words which are irrelevant in text analysis like I, am, you, are, etc.)\n",
    "Do POS( part of speech) tagging of the tokens and select only significant features/tokens like adjectives, adverbs, etc.\n",
    "Pass the tokens to a sentiment classifier which classifies the tweet sentiment as positive, negative or neutral by assigning it a polarity between -1.0 to 1.0 .\n",
    "Here is how sentiment classifier is created:\n",
    "\n",
    "TextBlob uses a Movies Reviews dataset in which reviews have already been labelled as positive or negative.\n",
    "Positive and negative features are extracted from each positive and negative review respectively.\n",
    "Training data now consists of labelled positive and negative features. This data is trained on a Naive Bayes Classifier.\n",
    "Then, we use sentiment.polarity method of TextBlob class to get the polarity of tweet between -1 to 1."
   ]
  },
  {
   "cell_type": "code",
   "execution_count": null,
   "metadata": {},
   "outputs": [],
   "source": []
  },
  {
   "cell_type": "code",
   "execution_count": null,
   "metadata": {},
   "outputs": [],
   "source": []
  },
  {
   "cell_type": "code",
   "execution_count": null,
   "metadata": {},
   "outputs": [],
   "source": []
  },
  {
   "cell_type": "code",
   "execution_count": null,
   "metadata": {},
   "outputs": [],
   "source": []
  }
 ],
 "metadata": {
  "kernelspec": {
   "display_name": "Python 3",
   "language": "python",
   "name": "python3"
  },
  "language_info": {
   "codemirror_mode": {
    "name": "ipython",
    "version": 3
   },
   "file_extension": ".py",
   "mimetype": "text/x-python",
   "name": "python",
   "nbconvert_exporter": "python",
   "pygments_lexer": "ipython3",
   "version": "3.6.5"
  }
 },
 "nbformat": 4,
 "nbformat_minor": 2
}
